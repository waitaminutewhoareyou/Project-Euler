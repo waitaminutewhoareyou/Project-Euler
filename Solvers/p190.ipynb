{
  "nbformat": 4,
  "nbformat_minor": 0,
  "metadata": {
    "colab": {
      "name": "p190.ipynb",
      "provenance": [],
      "authorship_tag": "ABX9TyMsNI9RaPLD8hZRgtyurQwC",
      "include_colab_link": true
    },
    "kernelspec": {
      "name": "python3",
      "display_name": "Python 3"
    },
    "language_info": {
      "name": "python"
    }
  },
  "cells": [
    {
      "cell_type": "markdown",
      "metadata": {
        "id": "view-in-github",
        "colab_type": "text"
      },
      "source": [
        "<a href=\"https://colab.research.google.com/github/waitaminutewhoareyou/Project-Euler/blob/master/Solvers/p190.ipynb\" target=\"_parent\"><img src=\"https://colab.research.google.com/assets/colab-badge.svg\" alt=\"Open In Colab\"/></a>"
      ]
    },
    {
      "cell_type": "markdown",
      "source": [
        "The problem can be formulated as\n",
        "\n",
        "$$\\max \\prod_{i=1}^{m}x_{i}^{i}$$\n",
        "\n",
        "$$\\text{subject to} \\sum x_{i}=m$$.\n",
        "\n",
        "Or equivalently,\n",
        "$$\\max \\prod_{i=1}^{m}i\\log x_{i}$$\n",
        "\n",
        "$$\\text{subject to} \\sum x_{i}=m$$.\n",
        "\n",
        "By applying Lagrange multiplier, we have\n",
        "$$\n",
        "x_i = \\frac{i}{\\lambda}, \\sum x_i = m\n",
        "$$.\n",
        "And thus,\n",
        "$$x_i = \\frac{2i}{m+1}$$.\n",
        "\n",
        "Hence, \n",
        "$P_m = \\frac{2^m\\prod_{i=1}^{m} i^i}{(m+1)^m}$."
      ],
      "metadata": {
        "id": "9T_5Vsqbbg0z"
      }
    },
    {
      "cell_type": "code",
      "execution_count": 1,
      "metadata": {
        "colab": {
          "base_uri": "https://localhost:8080/"
        },
        "id": "1kV78CPIbYIB",
        "outputId": "2d3ac617-b803-41c8-b991-c3a6573f76cf"
      },
      "outputs": [
        {
          "output_type": "execute_result",
          "data": {
            "text/plain": [
              "371048281"
            ]
          },
          "metadata": {},
          "execution_count": 1
        }
      ],
      "source": [
        "\n",
        "\n",
        "\n",
        "def x(i):\n",
        "    return 2*i/(m+1)\n",
        "\n",
        "final_res = 0\n",
        "for m in range(2,16):\n",
        "    res = 1\n",
        "    for i in range(1, m+1):\n",
        "        res *= x(i)**i\n",
        "    final_res += int(res)\n",
        "    \n",
        "final_res"
      ]
    },
    {
      "cell_type": "code",
      "source": [
        ""
      ],
      "metadata": {
        "id": "BgvX1FhIeSO_"
      },
      "execution_count": null,
      "outputs": []
    }
  ]
}